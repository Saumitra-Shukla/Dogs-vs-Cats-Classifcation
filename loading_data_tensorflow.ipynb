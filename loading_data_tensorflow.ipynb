{
  "nbformat": 4,
  "nbformat_minor": 0,
  "metadata": {
    "colab": {
      "name": "loading data tensorflow.ipynb",
      "version": "0.3.2",
      "provenance": [],
      "include_colab_link": true
    },
    "language_info": {
      "codemirror_mode": {
        "name": "ipython",
        "version": 3
      },
      "file_extension": ".py",
      "mimetype": "text/x-python",
      "name": "python",
      "nbconvert_exporter": "python",
      "pygments_lexer": "ipython3",
      "version": "3.6.8"
    },
    "kernelspec": {
      "display_name": "Python 3",
      "language": "python",
      "name": "python3"
    }
  },
  "cells": [
    {
      "cell_type": "markdown",
      "metadata": {
        "id": "view-in-github",
        "colab_type": "text"
      },
      "source": [
        "<a href=\"https://colab.research.google.com/github/Saumitra-Shukla/Dogs-vs-Cats-Classifcation/blob/master/loading_data_tensorflow.ipynb\" target=\"_parent\"><img src=\"https://colab.research.google.com/assets/colab-badge.svg\" alt=\"Open In Colab\"/></a>"
      ]
    },
    {
      "cell_type": "code",
      "metadata": {
        "id": "BYxuliipAuF-",
        "colab_type": "code",
        "colab": {},
        "outputId": "1279a49f-4c8c-4841-c55f-ceb0b0c1eb86"
      },
      "source": [
        "import numpy as np\n",
        "import matplotlib.pyplot as plt\n",
        "import os\n",
        "import cv2\n",
        "\n",
        "\n",
        "DATADIR =\"../../../saumitra/Downloads/cats-and-dogs/PetImages\"\n",
        "Categories=[\"Dog\", \"Cat\"]\n",
        "for categ in Categories:\n",
        "    path = os.path.join(DATADIR, categ)\n",
        "    for img in os.listdir(path):\n",
        "        img_array=cv2.imread(os.path.join(path,img),cv2.IMREAD_GRAYSCALE)\n",
        "        plt.imshow(img_array, cmap='gray')\n",
        "        plt.show()\n",
        "        break\n",
        "    break\n",
        "        "
      ],
      "execution_count": 0,
      "outputs": [
        {
          "output_type": "display_data",
          "data": {
            "text/plain": [
              "<Figure size 640x480 with 1 Axes>"
            ]
          },
          "metadata": {
            "tags": []
          }
        }
      ]
    },
    {
      "cell_type": "code",
      "metadata": {
        "id": "KiMiJVZ9AuHk",
        "colab_type": "code",
        "colab": {},
        "outputId": "c0cba744-d9c9-4cfd-e221-a0bb9a797c23"
      },
      "source": [
        "print(img_array.shape)"
      ],
      "execution_count": 0,
      "outputs": [
        {
          "output_type": "stream",
          "text": [
            "(500, 453)\n"
          ],
          "name": "stdout"
        }
      ]
    },
    {
      "cell_type": "code",
      "metadata": {
        "id": "Juof4TeMAuIW",
        "colab_type": "code",
        "colab": {},
        "outputId": "c422bab5-af81-4ce7-827d-1bccdec4202b"
      },
      "source": [
        "img_size=100\n",
        "new_array= cv2.resize(img_array,(img_size,img_size))\n",
        "plt.imshow(new_array,cmap='gray')\n",
        "plt.show()"
      ],
      "execution_count": 0,
      "outputs": [
        {
          "output_type": "display_data",
          "data": {
            "image/png": "[encoded data removed]",
            "text/plain": [
              "<Figure size 432x288 with 1 Axes>"
            ]
          },
          "metadata": {
            "tags": [],
            "needs_background": "light"
          }
        }
      ]
    },
    {
      "cell_type": "code",
      "metadata": {
        "id": "KZMAawXcAuJI",
        "colab_type": "code",
        "colab": {}
      },
      "source": [
        "training_data=[]\n",
        "def create_training_data():\n",
        "    for categ in Categories:\n",
        "        path=os.path.join(DATADIR, categ)\n",
        "        \n",
        "        class_num=Categories.index(categ)\n",
        "        for img in os.listdir(path):\n",
        "            try: \n",
        "                img_array=cv2.imread(os.path.join(path,img),cv2.IMREAD_GRAYSCALE)\n",
        "                new_array= cv2.resize(img_array,(img_size,img_size))\n",
        "                training_data.append([new_array,class_num])\n",
        "            except Exception as e:\n",
        "                pass\n",
        "create_training_data()"
      ],
      "execution_count": 0,
      "outputs": []
    },
    {
      "cell_type": "code",
      "metadata": {
        "id": "lZ_dzFjHAuJs",
        "colab_type": "code",
        "colab": {},
        "outputId": "ee0f61a6-8eb3-465e-d482-c36c73c50264"
      },
      "source": [
        "print(len(training_data))"
      ],
      "execution_count": 0,
      "outputs": [
        {
          "output_type": "stream",
          "text": [
            "24946\n"
          ],
          "name": "stdout"
        }
      ]
    },
    {
      "cell_type": "code",
      "metadata": {
        "id": "4FknD45OAuKd",
        "colab_type": "code",
        "colab": {}
      },
      "source": [
        "import random\n",
        "random.shuffle(training_data)"
      ],
      "execution_count": 0,
      "outputs": []
    },
    {
      "cell_type": "code",
      "metadata": {
        "id": "46HzsF8CAuK7",
        "colab_type": "code",
        "colab": {},
        "outputId": "902bd548-47e2-4ca8-97ce-0195c9797cc3"
      },
      "source": [
        "print(training_data[0])"
      ],
      "execution_count": 0,
      "outputs": [
        {
          "output_type": "stream",
          "text": [
            "[array([[ 72,  86, 103, ..., 133, 133, 111],\n",
            "       [ 57,  75,  86, ..., 143, 141, 126],\n",
            "       [ 73,  79,  81, ..., 148, 137, 129],\n",
            "       ...,\n",
            "       [182, 182, 182, ..., 159, 174, 187],\n",
            "       [178, 179, 186, ..., 170, 175, 177],\n",
            "       [166, 186, 178, ..., 172, 168, 169]], dtype=uint8), 0]\n"
          ],
          "name": "stdout"
        }
      ]
    },
    {
      "cell_type": "code",
      "metadata": {
        "id": "v5bkfuT5AuLi",
        "colab_type": "code",
        "colab": {}
      },
      "source": [
        "x=[]\n",
        "y=[]"
      ],
      "execution_count": 0,
      "outputs": []
    },
    {
      "cell_type": "code",
      "metadata": {
        "id": "VebC1MAMAuMF",
        "colab_type": "code",
        "colab": {}
      },
      "source": [
        "for features,label in training_data:\n",
        "    x.append(features)\n",
        "    y.append(label)\n",
        "    \n",
        "x=np.array(x).reshape(-1,100,100,1)\n",
        "\n"
      ],
      "execution_count": 0,
      "outputs": []
    },
    {
      "cell_type": "code",
      "metadata": {
        "id": "QTxEkJkgAuMj",
        "colab_type": "code",
        "colab": {}
      },
      "source": [
        "import pickle\n",
        "pickle_out= open(\"x.pickle\", \"wb\")\n",
        "pickle.dump(x,pickle_out)\n",
        "pickle_out.close()\n",
        "\n",
        "pickle_out= open(\"y.pickle\", \"wb\")\n",
        "pickle.dump(y,pickle_out)\n",
        "pickle_out.close()"
      ],
      "execution_count": 0,
      "outputs": []
    },
    {
      "cell_type": "code",
      "metadata": {
        "id": "wsCUvKveAuNI",
        "colab_type": "code",
        "colab": {}
      },
      "source": [
        ""
      ],
      "execution_count": 0,
      "outputs": []
    }
  ]
}